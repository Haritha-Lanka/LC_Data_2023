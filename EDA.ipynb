{
 "cells": [
  {
   "cell_type": "markdown",
   "metadata": {},
   "source": [
    "# BUSINESS ISSUE UNDERSTANDING\n",
    "\n",
    "#1. What is the most important question you want to answer with this analysis? \n",
    "    \"What effect did class have on Titanic survival rates?\"\n",
    "    \n",
    "#2. Who is the audience for this analysis?\n",
    "    Jr. High students learning about the Titanic for the first time\n",
    "    \n",
    "#3. What is the timeline for this project?\n",
    "    One week\n",
    "    \n",
    "#4. What metrics and categories are critical for this analysis?\n",
    "    List of people on the Titanic, each person's class, and each person's survival status\n",
    "    \n",
    "#5. How do I connect to the data?\n",
    "    I found the dataset on Kaggle and downloaded it as a locally-stored CSV\n",
    "    \n",
    "#6. Is there a data dictionary?\n",
    "    Yes, on Kaggle"
   ]
  },
  {
   "cell_type": "code",
   "execution_count": null,
   "metadata": {},
   "outputs": [],
   "source": [
    "#import libraries\n",
    "\n",
    "import pandas as pd"
   ]
  },
  {
   "cell_type": "code",
   "execution_count": null,
   "metadata": {},
   "outputs": [],
   "source": [
    "#load data\n",
    "\n",
    "df = pd.read_csv(\"titanic/tit_train.csv\")\n",
    "df"
   ]
  },
  {
   "cell_type": "markdown",
   "metadata": {},
   "source": [
    "# DATA UNDERSTANDING\n",
    "\n",
    "#7. source = https://www.kaggle.com/datasets/dbdmobile/tita111?select=tit_train.csv\n",
    "    \n",
    "#8. Why was the data collected?\n",
    "    For machine learning practice\n",
    "\n",
    "#9. Who authored or collected the dataset?\n",
    "    A user on Kaggle took an older dataset and split it into training and testing data\n",
    "    \n",
    "#10. What is the context of the dataset? Is there supplemental documentation?\n",
    "    It was put together for machine learning practice; some of the data will be missing from each sheet\n",
    "    \n",
    "#11. What does the data represent?\n",
    "    The data represents individual passengers aboard the Titanic and some information about each of their journeys\n",
    "    \n",
    "#12. What is the granularity?\n",
    "    Each record is granular to 11 data points each\n",
    "\n",
    "#13. What does each row represent?\n",
    "    One Titanic passenger\n",
    "    \n",
    "#14. What does each value mean?\n",
    "    **PassengerId** = unique identifier for each passenger\n",
    "    **Survived** = whether the passenger survived (1) or not (0)\n",
    "    **Pclass** = passenger class (1 = 1st class, 2 = 2nd class, 3 = 3rd class)\n",
    "    **Name** = name of the passenger\n",
    "    **Sex** = gender of the passenger\n",
    "    **Age** = age of the passenger (in years)\n",
    "    **SibSp** = number of siblings or spouses aboard the Titanic\n",
    "    **Parch** = number of parents or children aboard the Titanic\n",
    "    **Ticket** = ticket number\n",
    "    **Fare** = passenger fare\n",
    "    **Cabin** = cabin number\n",
    "    **Embarked** = port of embarkation (C = Cherbourg, Q = Queenstown, S = Southampton)\n",
    "    \n",
    "# DATA PREPARATION\n",
    "\n",
    "#15. How do I validate the data?\n",
    "    Research information such as the number of passengers aboard the Titanic, number of survivors, etc. and compare to the data\n",
    "    Research tells me that ~1300 passengers boarded and ~500 survived."
   ]
  },
  {
   "cell_type": "code",
   "execution_count": null,
   "metadata": {},
   "outputs": [],
   "source": [
    "print(\"===\")\n",
    "print(\"INFO\")\n",
    "print(df.info())\n",
    "print(\"===\")\n",
    "print(\"SHAPE\")\n",
    "print(df.shape)\n",
    "print(\"===\")\n",
    "print(\"SURVIVAL VALUES\")\n",
    "df[\"Survived\"].value_counts()"
   ]
  },
  {
   "cell_type": "code",
   "execution_count": null,
   "metadata": {},
   "outputs": [],
   "source": [
    "#The previous cell tells me I'm missing some data. I have ~400 fewer rows than I expect and ~160 fewer survivors. \n",
    "#I have to decide if this is good enough for my analysis.\n",
    "\n",
    "print(f'The Titanic is believed to have had a {round(500/1300,2)*100}% survival rate.')\n",
    "print(f'The provided dataset has a {round(342/891,2)*100}% survival rate.')"
   ]
  },
  {
   "cell_type": "markdown",
   "metadata": {},
   "source": [
    "#16. Are there any known issues?\n",
    "    Yes, some data is missing. However, initial analysis shows promise that the data may be representative enough to be useful.\n",
    "\n",
    "#17. If a project requires multiple data sources, what is the best way to combine them?\n",
    "    This project does not require additional data sources. For this project, if I needed additional data, I would likely\n",
    "    use CSVs stored locally and join them in Python.\n",
    "\n",
    "#18. How frequently does the data update?\n",
    "    This dataset never updates."
   ]
  },
  {
   "cell_type": "code",
   "execution_count": null,
   "metadata": {},
   "outputs": [],
   "source": [
    "#Drop irrelevant columns\n",
    "\n",
    "df = df.drop(columns = [\"Name\", \"Sex\", \"Age\", \"SibSp\", \"Parch\", \"Ticket\", \"Fare\", \"Cabin\", \"Embarked\"])\n",
    "df.head()"
   ]
  },
  {
   "cell_type": "code",
   "execution_count": null,
   "metadata": {},
   "outputs": [],
   "source": [
    "#Drop duplicate rows\n",
    "df.drop_duplicates()\n",
    "df"
   ]
  },
  {
   "cell_type": "code",
   "execution_count": null,
   "metadata": {
    "scrolled": true
   },
   "outputs": [],
   "source": [
    "#Drop missing/null values\n",
    "print(df['PassengerId'].isna().sum())\n",
    "print(df['Survived'].isna().sum())\n",
    "print(df['Pclass'].isna().sum())\n",
    "df.dropna()\n",
    "df"
   ]
  },
  {
   "cell_type": "markdown",
   "metadata": {},
   "source": [
    "# DATA ANALYSIS"
   ]
  },
  {
   "cell_type": "code",
   "execution_count": null,
   "metadata": {},
   "outputs": [],
   "source": [
    "#create function to return value extrapolated out to full Titanic passenger population\n",
    "\n",
    "def extrapolate(val):\n",
    "    return int(round((val/68)*100,0))\n",
    "\n",
    "#get number of passengers for each class extrapolated to full population\n",
    "passengers_1 = extrapolate(len(df[df[\"Pclass\"]==1]))\n",
    "passengers_2 = extrapolate(len(df[df[\"Pclass\"]==2]))\n",
    "passengers_3 = extrapolate(len(df[df[\"Pclass\"]==3]))\n",
    "\n",
    "#get total number of passengers extrapolated to full population\n",
    "total_passengers = extrapolate(len(df))\n",
    "\n",
    "#get number of survivors for each class extrapolated to full population\n",
    "survived_1 = extrapolate(len(df[(df[\"Survived\"]==1) & (df[\"Pclass\"]==1)]))\n",
    "survived_2 = extrapolate(len(df[(df[\"Survived\"]==1) & (df[\"Pclass\"]==2)]))\n",
    "survived_3 = extrapolate(len(df[(df[\"Survived\"]==1) & (df[\"Pclass\"]==3)]))\n",
    "\n",
    "#get total number of survivors extrapolated to full population\n",
    "total_survived = survived_1+survived_2+survived_3\n",
    "\n",
    "#get the percentage of survivors for each class\n",
    "survived_1_rate = round(survived_1/passengers_1,2)*100\n",
    "survived_2_rate = round(survived_2/passengers_2,2)*100\n",
    "survived_3_rate = round(survived_3/passengers_3,2)*100\n",
    "\n",
    "#get the average survival rate for the classes\n",
    "avg_survival = (survived_1_rate+survived_2_rate+survived_3_rate)/3\n",
    "\n",
    "#get the median survival rate for the classes\n",
    "survivors = [survived_1_rate,survived_2_rate,survived_3_rate]\n",
    "med_survival = (min(survivors)+max(survivors))/2\n",
    "\n",
    "#create a function to calculate whether a class's survival rate was greater than or less than average.\n",
    "def survival_math(srv):\n",
    "    if srv > avg_survival:\n",
    "        return \"greater than the average survival rate.\"\n",
    "    else:\n",
    "        return \"less than the average survival rate.\"\n",
    "    \n",
    "\n",
    "print(f\"\"\"This dataset looks at the survivor rate of {total_passengers} passengers aboard the Titanic. According to the data: \\n\n",
    "    * Approximately {total_survived} passengers survived the wreck, a survival rate of {round(total_survived/total_passengers,2)*100}%.\\n\n",
    "    * The average survival rate of the three classes was {round(avg_survival,2)}%\\n\n",
    "    * The median survival rate of the three classes was {round(med_survival,2)}% \\n\n",
    "    * {survived_1} of {passengers_1}, or {survived_1_rate}% of first-class passengers survived, {survival_math(survived_1_rate)}\\n\n",
    "    * {survived_2} of {passengers_2}, or {survived_2_rate}% of second-class passengers survived, {survival_math(survived_2_rate)}\\n\n",
    "    * {survived_3} of {passengers_3}, or {survived_3_rate}% of third-class passengers survived, {survival_math(survived_3_rate)}\"\"\")"
   ]
  },
  {
   "cell_type": "markdown",
   "metadata": {},
   "source": [
    "#19. Does the analysis make sense?\n",
    "    Yes, the math all works out.\n",
    "    \n",
    "#20. Is the analysis answering the business question?\n",
    "    Yes, the question was whether a passenger's class affected their liklihood of surviving the wreck\n",
    "    \n",
    "#21. Does the data prep or project need to be revisited?\n",
    "    Maybe. We may need more complete data\n",
    "    \n",
    "#22. Is there meaninful insight?\n",
    "    Yes, we can see that passenger's survival rates correlated with their classes\n",
    "    \n",
    "#23. What is the next question someone looking at this analyisis would ask?\n",
    "    What other factors contributed to a person's liklihood of survival?\n",
    "    Was the relationship between survival and class causational?\n",
    "    \n",
    "#24. Is this a one-time request?\n",
    "    Yes, this is for a lesson plan, and it uses data that will never be updated. There is no reason to maintain the analysis.\n",
    "    \n",
    "# DATA PRODUCTION\n",
    "\n"
   ]
  }
 ],
 "metadata": {
  "kernelspec": {
   "display_name": "Python 3 (ipykernel)",
   "language": "python",
   "name": "python3"
  },
  "language_info": {
   "codemirror_mode": {
    "name": "ipython",
    "version": 3
   },
   "file_extension": ".py",
   "mimetype": "text/x-python",
   "name": "python",
   "nbconvert_exporter": "python",
   "pygments_lexer": "ipython3",
   "version": "3.9.7"
  }
 },
 "nbformat": 4,
 "nbformat_minor": 4
}
