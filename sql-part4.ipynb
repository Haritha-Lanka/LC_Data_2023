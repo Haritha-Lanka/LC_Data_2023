{
    "metadata": {
        "kernelspec": {
            "name": "SQL",
            "display_name": "SQL",
            "language": "sql"
        },
        "language_info": {
            "name": "sql",
            "version": ""
        }
    },
    "nbformat_minor": 2,
    "nbformat": 4,
    "cells": [
        {
            "cell_type": "markdown",
            "source": [
                "# Exercises: Complex queries\n",
                "\n",
                "For the exercises, you are tasked with writing five queries that will help you delve deeper into BooksDB. You can choose whether you want to use a correlated subquery, a nested subquery, the UNION operator, the INTERSECT operator, or the EXCEPT operator for each one. You may not use joins or add multiple statements to the WHERE clause.\n",
                "\n",
                "1. Write a query that will return the number of users who rated a book above it's average rating."
            ],
            "metadata": {
                "azdata_cell_guid": "10006a10-882f-4f55-8d42-f36044fdb6c7"
            },
            "attachments": {}
        },
        {
            "cell_type": "code",
            "source": [
                "USE BooksDB\n",
                "Go\n",
                "-- Correlated subquery\n",
                "\n",
                "SELECT COUNT(user_id) as happy_readers -- After running subquery, use COUNT to return number of records in subquery\n",
                "FROM BooksDB.dbo.ratings\n",
                "WHERE rating > \n",
                "    (SELECT average_rating \n",
                "    FROM BooksDB.dbo.books \n",
                "    WHERE book_id = BooksDB.dbo.ratings.book_id); -- Subquery returns all records where user rated the book > avg"
            ],
            "metadata": {
                "azdata_cell_guid": "203eb95e-6585-435f-8a8e-bfa0dfe6f7c0",
                "tags": [],
                "language": "sql"
            },
            "outputs": [],
            "execution_count": null
        },
        {
            "cell_type": "markdown",
            "source": [
                "2. Write a query that returns the book ids of all books that have over 1000 ratings of 1 star or over 1000 ratings of 5 stars."
            ],
            "metadata": {
                "azdata_cell_guid": "7f849931-6c9c-4cd9-b3ba-66871052673d"
            },
            "attachments": {}
        },
        {
            "cell_type": "code",
            "source": [
                "-- UNION operator\n",
                "\n",
                "SELECT book_id\n",
                "FROM BooksDB.dbo.books\n",
                "WHERE ratings_1 > 1000 -- query all rows with >1k one-star reviews\n",
                "UNION -- stack the results of the queries on top of each other and remove all duplicate rows from the final table\n",
                "SELECT book_id\n",
                "FROM BooksDB.dbo.books\n",
                "WHERE ratings_5 > 1000; -- query all rows with >1k five-star reviews\n",
                "\n",
                "-- make sure the queries are compatible and will end up with the right information\n",
                "-- in the right columns and stack the results of those queries on top of each other"
            ],
            "metadata": {
                "azdata_cell_guid": "bce732e3-1590-457b-b1f9-5319345ff790",
                "language": "sql"
            },
            "outputs": [],
            "execution_count": null
        },
        {
            "cell_type": "markdown",
            "source": [
                "3. Write a query that returns the book ids of all books that have over 1000 ratings of 1 star and over 1000 ratings of 5 stars."
            ],
            "metadata": {
                "azdata_cell_guid": "9c53b866-c8e8-465e-b089-7702b191a15e"
            },
            "attachments": {}
        },
        {
            "cell_type": "code",
            "source": [
                "-- INTERSECT operator\n",
                "\n",
                "SELECT book_id\n",
                "FROM BooksDB.dbo.books\n",
                "WHERE ratings_1 > 1000 -- query all books with >1000 one-star reviews\n",
                "INTERSECT -- keep only records that appear in both queries\n",
                "SELECT book_id\n",
                "FROM BooksDB.dbo.books\n",
                "WHERE ratings_5 > 1000 -- query all books with >1000 five-star reviews\n",
                "\n",
                "--- make sure the queries are compatible and will end up with the right information\n",
                "-- in the right columns and stack the results of those queries on top of each other"
            ],
            "metadata": {
                "azdata_cell_guid": "43e39973-5a29-45ff-b2a9-9c658a19c296",
                "language": "sql"
            },
            "outputs": [],
            "execution_count": null
        },
        {
            "cell_type": "markdown",
            "source": [
                "4. Write a query that returns the book ids of books that have a language code of \"en-US\" and not a langugae code of \"en-GB\"."
            ],
            "metadata": {
                "azdata_cell_guid": "2bd4844b-83af-490f-97cd-fdc1fa2944ec"
            },
            "attachments": {}
        },
        {
            "cell_type": "code",
            "source": [
                "-- EXCEPT operator\n",
                "SELECT book_id\n",
                "FROM BooksDB.dbo.books\n",
                "WHERE language_code = 'en-US' -- query for all books with a language code of 'en-US'\n",
                "EXCEPT -- do not include any rows in the result table that appear in the second query of this union\n",
                "SELECT book_id\n",
                "FROM BooksDB.dbo.books\n",
                "WHERE language_code = 'en-GB' -- query for all books with a language code of 'en-GB'\n",
                ""
            ],
            "metadata": {
                "azdata_cell_guid": "ba5a1b61-19c0-4d70-ae8d-2daae6ae1e21",
                "language": "sql"
            },
            "outputs": [],
            "execution_count": null
        },
        {
            "cell_type": "markdown",
            "source": [
                "5. Write a query that returns the names of the tags and the tag ids for tags that were used over 100,000 times for a book. "
            ],
            "metadata": {
                "azdata_cell_guid": "6ddd588f-a84c-4c77-93ac-e8c8bd21d0f5"
            },
            "attachments": {}
        },
        {
            "cell_type": "code",
            "source": [
                "-- Nested subquery\n",
                "\n",
                "SELECT tag_id, tag_name -- second, use the subquery as a filter on the main table to only get additional \n",
                "                        -- information from rows that match the subquery criteria\n",
                "FROM BooksDB.dbo.tags \n",
                "WHERE tag_id IN (\n",
                "    SELECT tag_id\n",
                "    FROM BooksDB.dbo.book_tags\n",
                "    WHERE count > 100000) -- first, the subquery finds all tags ids for tags used >100k times\n",
                "\n",
                ""
            ],
            "metadata": {
                "azdata_cell_guid": "90f61ad7-65cb-4ea8-85a3-d8c815cfe347",
                "tags": [],
                "language": "sql"
            },
            "outputs": [],
            "execution_count": null
        }
    ]
}