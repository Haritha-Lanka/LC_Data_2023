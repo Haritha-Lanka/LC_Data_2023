{
 "cells": [
  {
   "cell_type": "markdown",
   "metadata": {},
   "source": [
    "Scenario: I'm planning to buy a game for a family of 4. \n",
    "\n",
    "I dont' have all the analysis requirements yet, and am cleaning this data set while we wait for more information.\n",
    "\n",
    "I know I want to include a recently released game 'Parks'"
   ]
  },
  {
   "cell_type": "code",
   "execution_count": 1,
   "metadata": {},
   "outputs": [
    {
     "data": {
      "text/html": [
       "<div>\n",
       "<style scoped>\n",
       "    .dataframe tbody tr th:only-of-type {\n",
       "        vertical-align: middle;\n",
       "    }\n",
       "\n",
       "    .dataframe tbody tr th {\n",
       "        vertical-align: top;\n",
       "    }\n",
       "\n",
       "    .dataframe thead th {\n",
       "        text-align: right;\n",
       "    }\n",
       "</style>\n",
       "<table border=\"1\" class=\"dataframe\">\n",
       "  <thead>\n",
       "    <tr style=\"text-align: right;\">\n",
       "      <th></th>\n",
       "      <th>name</th>\n",
       "      <th>category</th>\n",
       "      <th>playtime</th>\n",
       "      <th>playtime_num</th>\n",
       "      <th>avg_rating</th>\n",
       "      <th>num_ratings</th>\n",
       "      <th>min_players</th>\n",
       "    </tr>\n",
       "  </thead>\n",
       "  <tbody>\n",
       "    <tr>\n",
       "      <th>0</th>\n",
       "      <td>Agricola</td>\n",
       "      <td>Economic</td>\n",
       "      <td>&gt;90</td>\n",
       "      <td>150</td>\n",
       "      <td>7.98857</td>\n",
       "      <td>61557</td>\n",
       "      <td>1</td>\n",
       "    </tr>\n",
       "    <tr>\n",
       "      <th>1</th>\n",
       "      <td>Puerto Rico</td>\n",
       "      <td>Economic</td>\n",
       "      <td>NaN</td>\n",
       "      <td>150</td>\n",
       "      <td>8.03590</td>\n",
       "      <td>61157</td>\n",
       "      <td>3</td>\n",
       "    </tr>\n",
       "    <tr>\n",
       "      <th>2</th>\n",
       "      <td>Small World</td>\n",
       "      <td>Fighting</td>\n",
       "      <td>(60, 90]</td>\n",
       "      <td>800</td>\n",
       "      <td>7.29949</td>\n",
       "      <td>59211</td>\n",
       "      <td>2</td>\n",
       "    </tr>\n",
       "    <tr>\n",
       "      <th>3</th>\n",
       "      <td>Codenames</td>\n",
       "      <td>Deduction</td>\n",
       "      <td>&lt;=30</td>\n",
       "      <td>15</td>\n",
       "      <td>7.71148</td>\n",
       "      <td>62563</td>\n",
       "      <td>2</td>\n",
       "    </tr>\n",
       "    <tr>\n",
       "      <th>4</th>\n",
       "      <td>Power Grid</td>\n",
       "      <td>Economic</td>\n",
       "      <td>&gt;90</td>\n",
       "      <td>120</td>\n",
       "      <td>7.89004</td>\n",
       "      <td>54420</td>\n",
       "      <td>2</td>\n",
       "    </tr>\n",
       "  </tbody>\n",
       "</table>\n",
       "</div>"
      ],
      "text/plain": [
       "          name   category  playtime  playtime_num  avg_rating  num_ratings  \\\n",
       "0     Agricola   Economic       >90           150     7.98857        61557   \n",
       "1  Puerto Rico   Economic       NaN           150     8.03590        61157   \n",
       "2  Small World   Fighting  (60, 90]           800     7.29949        59211   \n",
       "3    Codenames  Deduction      <=30            15     7.71148        62563   \n",
       "4   Power Grid   Economic       >90           120     7.89004        54420   \n",
       "\n",
       "   min_players  \n",
       "0            1  \n",
       "1            3  \n",
       "2            2  \n",
       "3            2  \n",
       "4            2  "
      ]
     },
     "execution_count": 1,
     "metadata": {},
     "output_type": "execute_result"
    }
   ],
   "source": [
    "# install libraries\n",
    "import pandas as pd\n",
    "import seaborn as sns\n",
    "import numpy as np\n",
    "\n",
    "# load the dataset\n",
    "df = pd.read_csv('../resources/popular_board_game.csv')\n",
    "df.head()"
   ]
  },
  {
   "cell_type": "markdown",
   "metadata": {},
   "source": [
    "# Section 1: Missing values"
   ]
  },
  {
   "cell_type": "markdown",
   "metadata": {},
   "source": [
    "Find missing values\n",
    "\n",
    "* Missing Data Heatmap\n",
    "* Null Rates by Column\n",
    "* Missing Data Histogram"
   ]
  },
  {
   "cell_type": "code",
   "execution_count": 2,
   "metadata": {},
   "outputs": [
    {
     "data": {
      "text/plain": [
       "<matplotlib.axes._subplots.AxesSubplot at 0x1e8ffd9fbe0>"
      ]
     },
     "execution_count": 2,
     "metadata": {},
     "output_type": "execute_result"
    },
    {
     "data": {
      "image/png": "[encoded data removed]",
      "text/plain": [
       "<Figure size 432x288 with 2 Axes>"
      ]
     },
     "metadata": {
      "needs_background": "light"
     },
     "output_type": "display_data"
    }
   ],
   "source": [
    "# Missing data heatmap\n",
    "sns.heatmap(df.isnull())"
   ]
  },
  {
   "cell_type": "code",
   "execution_count": 3,
   "metadata": {},
   "outputs": [
    {
     "name": "stdout",
     "output_type": "stream",
     "text": [
      "name - 0%\n",
      "category - 0%\n",
      "playtime - 4%\n",
      "playtime_num - 0%\n",
      "avg_rating - 1%\n",
      "num_ratings - 0%\n",
      "min_players - 0%\n"
     ]
    }
   ],
   "source": [
    "# Null Rates by Column\n",
    "for col in df.columns:\n",
    "    pct_missing = np.mean(df[col].isnull())\n",
    "    print(f'{col} - {round(pct_missing*100)}%')"
   ]
  },
  {
   "cell_type": "code",
   "execution_count": 4,
   "metadata": {},
   "outputs": [
    {
     "name": "stdout",
     "output_type": "stream",
     "text": [
      "created missing indicator for: playtime\n",
      "created missing indicator for: avg_rating\n"
     ]
    },
    {
     "data": {
      "text/plain": [
       "<matplotlib.axes._subplots.AxesSubplot at 0x1e8fff6cb70>"
      ]
     },
     "execution_count": 4,
     "metadata": {},
     "output_type": "execute_result"
    },
    {
     "data": {
      "image/png": "[encoded data removed]",
      "text/plain": [
       "<Figure size 432x288 with 1 Axes>"
      ]
     },
     "metadata": {
      "needs_background": "light"
     },
     "output_type": "display_data"
    }
   ],
   "source": [
    "# Missing Data Histogram\n",
    "for col in df.columns:\n",
    "    # Counts missing rows in each column\n",
    "    missing = df[col].isnull()\n",
    "    num_missing = np.sum(missing)\n",
    "    \n",
    "    if num_missing > 0:\n",
    "        print(f'created missing indicator for: {col}')\n",
    "        # creates new helper column to show null values\n",
    "        df[f'{col}_ismissing'] = missing\n",
    "    \n",
    "# totals the nulls in each row using the new helper columns\n",
    "ismissing_cols = [col for col in df.columns if 'ismissing' in col]\n",
    "df['num_missing'] = df[ismissing_cols].sum(axis=1)\n",
    "\n",
    "#plots the histogram\n",
    "df['num_missing'].value_counts().reset_index().sort_values(by='index').plot.bar(x='index', y='num_missing')\n"
   ]
  },
  {
   "cell_type": "code",
   "execution_count": 5,
   "metadata": {},
   "outputs": [
    {
     "data": {
      "text/html": [
       "<div>\n",
       "<style scoped>\n",
       "    .dataframe tbody tr th:only-of-type {\n",
       "        vertical-align: middle;\n",
       "    }\n",
       "\n",
       "    .dataframe tbody tr th {\n",
       "        vertical-align: top;\n",
       "    }\n",
       "\n",
       "    .dataframe thead th {\n",
       "        text-align: right;\n",
       "    }\n",
       "</style>\n",
       "<table border=\"1\" class=\"dataframe\">\n",
       "  <thead>\n",
       "    <tr style=\"text-align: right;\">\n",
       "      <th></th>\n",
       "      <th>name</th>\n",
       "      <th>category</th>\n",
       "      <th>playtime</th>\n",
       "      <th>playtime_num</th>\n",
       "      <th>avg_rating</th>\n",
       "      <th>num_ratings</th>\n",
       "      <th>min_players</th>\n",
       "      <th>playtime_ismissing</th>\n",
       "      <th>avg_rating_ismissing</th>\n",
       "      <th>num_missing</th>\n",
       "    </tr>\n",
       "  </thead>\n",
       "  <tbody>\n",
       "    <tr>\n",
       "      <th>0</th>\n",
       "      <td>Agricola</td>\n",
       "      <td>Economic</td>\n",
       "      <td>&gt;90</td>\n",
       "      <td>150</td>\n",
       "      <td>7.98857</td>\n",
       "      <td>61557</td>\n",
       "      <td>1</td>\n",
       "      <td>False</td>\n",
       "      <td>False</td>\n",
       "      <td>0</td>\n",
       "    </tr>\n",
       "    <tr>\n",
       "      <th>1</th>\n",
       "      <td>Puerto Rico</td>\n",
       "      <td>Economic</td>\n",
       "      <td>NaN</td>\n",
       "      <td>150</td>\n",
       "      <td>8.03590</td>\n",
       "      <td>61157</td>\n",
       "      <td>3</td>\n",
       "      <td>True</td>\n",
       "      <td>False</td>\n",
       "      <td>1</td>\n",
       "    </tr>\n",
       "    <tr>\n",
       "      <th>2</th>\n",
       "      <td>Small World</td>\n",
       "      <td>Fighting</td>\n",
       "      <td>(60, 90]</td>\n",
       "      <td>800</td>\n",
       "      <td>7.29949</td>\n",
       "      <td>59211</td>\n",
       "      <td>2</td>\n",
       "      <td>False</td>\n",
       "      <td>False</td>\n",
       "      <td>0</td>\n",
       "    </tr>\n",
       "    <tr>\n",
       "      <th>3</th>\n",
       "      <td>Codenames</td>\n",
       "      <td>Deduction</td>\n",
       "      <td>&lt;=30</td>\n",
       "      <td>15</td>\n",
       "      <td>7.71148</td>\n",
       "      <td>62563</td>\n",
       "      <td>2</td>\n",
       "      <td>False</td>\n",
       "      <td>False</td>\n",
       "      <td>0</td>\n",
       "    </tr>\n",
       "    <tr>\n",
       "      <th>4</th>\n",
       "      <td>Power Grid</td>\n",
       "      <td>Economic</td>\n",
       "      <td>&gt;90</td>\n",
       "      <td>120</td>\n",
       "      <td>7.89004</td>\n",
       "      <td>54420</td>\n",
       "      <td>2</td>\n",
       "      <td>False</td>\n",
       "      <td>False</td>\n",
       "      <td>0</td>\n",
       "    </tr>\n",
       "  </tbody>\n",
       "</table>\n",
       "</div>"
      ],
      "text/plain": [
       "          name   category  playtime  playtime_num  avg_rating  num_ratings  \\\n",
       "0     Agricola   Economic       >90           150     7.98857        61557   \n",
       "1  Puerto Rico   Economic       NaN           150     8.03590        61157   \n",
       "2  Small World   Fighting  (60, 90]           800     7.29949        59211   \n",
       "3    Codenames  Deduction      <=30            15     7.71148        62563   \n",
       "4   Power Grid   Economic       >90           120     7.89004        54420   \n",
       "\n",
       "   min_players  playtime_ismissing  avg_rating_ismissing  num_missing  \n",
       "0            1               False                 False            0  \n",
       "1            3                True                 False            1  \n",
       "2            2               False                 False            0  \n",
       "3            2               False                 False            0  \n",
       "4            2               False                 False            0  "
      ]
     },
     "execution_count": 5,
     "metadata": {},
     "output_type": "execute_result"
    }
   ],
   "source": [
    "df.head()"
   ]
  },
  {
   "cell_type": "code",
   "execution_count": 6,
   "metadata": {},
   "outputs": [
    {
     "data": {
      "text/html": [
       "<div>\n",
       "<style scoped>\n",
       "    .dataframe tbody tr th:only-of-type {\n",
       "        vertical-align: middle;\n",
       "    }\n",
       "\n",
       "    .dataframe tbody tr th {\n",
       "        vertical-align: top;\n",
       "    }\n",
       "\n",
       "    .dataframe thead th {\n",
       "        text-align: right;\n",
       "    }\n",
       "</style>\n",
       "<table border=\"1\" class=\"dataframe\">\n",
       "  <thead>\n",
       "    <tr style=\"text-align: right;\">\n",
       "      <th></th>\n",
       "      <th>name</th>\n",
       "      <th>category</th>\n",
       "      <th>playtime</th>\n",
       "      <th>playtime_num</th>\n",
       "      <th>avg_rating</th>\n",
       "      <th>num_ratings</th>\n",
       "      <th>min_players</th>\n",
       "    </tr>\n",
       "  </thead>\n",
       "  <tbody>\n",
       "    <tr>\n",
       "      <th>0</th>\n",
       "      <td>Agricola</td>\n",
       "      <td>Economic</td>\n",
       "      <td>&gt;90</td>\n",
       "      <td>150</td>\n",
       "      <td>7.98857</td>\n",
       "      <td>61557</td>\n",
       "      <td>1</td>\n",
       "    </tr>\n",
       "    <tr>\n",
       "      <th>1</th>\n",
       "      <td>Puerto Rico</td>\n",
       "      <td>Economic</td>\n",
       "      <td>NaN</td>\n",
       "      <td>150</td>\n",
       "      <td>8.03590</td>\n",
       "      <td>61157</td>\n",
       "      <td>3</td>\n",
       "    </tr>\n",
       "    <tr>\n",
       "      <th>2</th>\n",
       "      <td>Small World</td>\n",
       "      <td>Fighting</td>\n",
       "      <td>(60, 90]</td>\n",
       "      <td>800</td>\n",
       "      <td>7.29949</td>\n",
       "      <td>59211</td>\n",
       "      <td>2</td>\n",
       "    </tr>\n",
       "    <tr>\n",
       "      <th>3</th>\n",
       "      <td>Codenames</td>\n",
       "      <td>Deduction</td>\n",
       "      <td>&lt;=30</td>\n",
       "      <td>15</td>\n",
       "      <td>7.71148</td>\n",
       "      <td>62563</td>\n",
       "      <td>2</td>\n",
       "    </tr>\n",
       "    <tr>\n",
       "      <th>4</th>\n",
       "      <td>Power Grid</td>\n",
       "      <td>Economic</td>\n",
       "      <td>&gt;90</td>\n",
       "      <td>120</td>\n",
       "      <td>7.89004</td>\n",
       "      <td>54420</td>\n",
       "      <td>2</td>\n",
       "    </tr>\n",
       "  </tbody>\n",
       "</table>\n",
       "</div>"
      ],
      "text/plain": [
       "          name   category  playtime  playtime_num  avg_rating  num_ratings  \\\n",
       "0     Agricola   Economic       >90           150     7.98857        61557   \n",
       "1  Puerto Rico   Economic       NaN           150     8.03590        61157   \n",
       "2  Small World   Fighting  (60, 90]           800     7.29949        59211   \n",
       "3    Codenames  Deduction      <=30            15     7.71148        62563   \n",
       "4   Power Grid   Economic       >90           120     7.89004        54420   \n",
       "\n",
       "   min_players  \n",
       "0            1  \n",
       "1            3  \n",
       "2            2  \n",
       "3            2  \n",
       "4            2  "
      ]
     },
     "execution_count": 6,
     "metadata": {},
     "output_type": "execute_result"
    }
   ],
   "source": [
    "# reset the dataframe\n",
    "df = pd.read_csv('../resources/popular_board_game.csv')\n",
    "df.head()"
   ]
  },
  {
   "cell_type": "code",
   "execution_count": 7,
   "metadata": {},
   "outputs": [
    {
     "data": {
      "text/html": [
       "<div>\n",
       "<style scoped>\n",
       "    .dataframe tbody tr th:only-of-type {\n",
       "        vertical-align: middle;\n",
       "    }\n",
       "\n",
       "    .dataframe tbody tr th {\n",
       "        vertical-align: top;\n",
       "    }\n",
       "\n",
       "    .dataframe thead th {\n",
       "        text-align: right;\n",
       "    }\n",
       "</style>\n",
       "<table border=\"1\" class=\"dataframe\">\n",
       "  <thead>\n",
       "    <tr style=\"text-align: right;\">\n",
       "      <th></th>\n",
       "      <th>name</th>\n",
       "      <th>category</th>\n",
       "      <th>playtime</th>\n",
       "      <th>playtime_num</th>\n",
       "      <th>avg_rating</th>\n",
       "      <th>num_ratings</th>\n",
       "      <th>min_players</th>\n",
       "    </tr>\n",
       "  </thead>\n",
       "  <tbody>\n",
       "  </tbody>\n",
       "</table>\n",
       "</div>"
      ],
      "text/plain": [
       "Empty DataFrame\n",
       "Columns: [name, category, playtime, playtime_num, avg_rating, num_ratings, min_players]\n",
       "Index: []"
      ]
     },
     "execution_count": 7,
     "metadata": {},
     "output_type": "execute_result"
    }
   ],
   "source": [
    "# From the prompt - I need 'Parks' in the dataset\n",
    "# Check to see if 'Parks' is in the dataframe\n",
    "\n",
    "df[df['name'] == 'Parks'].head()"
   ]
  },
  {
   "cell_type": "code",
   "execution_count": 8,
   "metadata": {},
   "outputs": [
    {
     "data": {
      "text/html": [
       "<div>\n",
       "<style scoped>\n",
       "    .dataframe tbody tr th:only-of-type {\n",
       "        vertical-align: middle;\n",
       "    }\n",
       "\n",
       "    .dataframe tbody tr th {\n",
       "        vertical-align: top;\n",
       "    }\n",
       "\n",
       "    .dataframe thead th {\n",
       "        text-align: right;\n",
       "    }\n",
       "</style>\n",
       "<table border=\"1\" class=\"dataframe\">\n",
       "  <thead>\n",
       "    <tr style=\"text-align: right;\">\n",
       "      <th></th>\n",
       "      <th>name</th>\n",
       "      <th>category</th>\n",
       "      <th>playtime</th>\n",
       "      <th>playtime_num</th>\n",
       "      <th>avg_rating</th>\n",
       "      <th>num_ratings</th>\n",
       "      <th>min_players</th>\n",
       "    </tr>\n",
       "  </thead>\n",
       "  <tbody>\n",
       "    <tr>\n",
       "      <th>244</th>\n",
       "      <td>Agricola (Revised Edition)</td>\n",
       "      <td>economic</td>\n",
       "      <td>&gt;90</td>\n",
       "      <td>120</td>\n",
       "      <td>NaN</td>\n",
       "      <td>7982</td>\n",
       "      <td>1</td>\n",
       "    </tr>\n",
       "    <tr>\n",
       "      <th>245</th>\n",
       "      <td>Chronicles of Crime</td>\n",
       "      <td>deduction</td>\n",
       "      <td>(60, 90]</td>\n",
       "      <td>90</td>\n",
       "      <td>8.03759</td>\n",
       "      <td>11684</td>\n",
       "      <td>1</td>\n",
       "    </tr>\n",
       "    <tr>\n",
       "      <th>246</th>\n",
       "      <td>Just One</td>\n",
       "      <td>party game</td>\n",
       "      <td>&lt;=30</td>\n",
       "      <td>20</td>\n",
       "      <td>7.57741</td>\n",
       "      <td>8979</td>\n",
       "      <td>3</td>\n",
       "    </tr>\n",
       "    <tr>\n",
       "      <th>247</th>\n",
       "      <td>The Lord of the Rings: Journeys in Middle-earth</td>\n",
       "      <td>fighting</td>\n",
       "      <td>&gt;90</td>\n",
       "      <td>120</td>\n",
       "      <td>8.40100</td>\n",
       "      <td>6688</td>\n",
       "      <td>1</td>\n",
       "    </tr>\n",
       "    <tr>\n",
       "      <th>248</th>\n",
       "      <td>Parks</td>\n",
       "      <td>Adventure</td>\n",
       "      <td></td>\n",
       "      <td>45</td>\n",
       "      <td>7.80000</td>\n",
       "      <td>12000</td>\n",
       "      <td>1</td>\n",
       "    </tr>\n",
       "  </tbody>\n",
       "</table>\n",
       "</div>"
      ],
      "text/plain": [
       "                                                name    category  playtime  \\\n",
       "244                       Agricola (Revised Edition)    economic       >90   \n",
       "245                              Chronicles of Crime   deduction  (60, 90]   \n",
       "246                                         Just One  party game      <=30   \n",
       "247  The Lord of the Rings: Journeys in Middle-earth    fighting       >90   \n",
       "248                                            Parks   Adventure             \n",
       "\n",
       "     playtime_num  avg_rating  num_ratings  min_players  \n",
       "244           120         NaN         7982            1  \n",
       "245            90     8.03759        11684            1  \n",
       "246            20     7.57741         8979            3  \n",
       "247           120     8.40100         6688            1  \n",
       "248            45     7.80000        12000            1  "
      ]
     },
     "execution_count": 8,
     "metadata": {},
     "output_type": "execute_result"
    }
   ],
   "source": [
    "# Add Parks to the dataframe\n",
    "df.loc[len(df.index)] = ['Parks', 'Adventure', '', 45, 7.8, 12000, 1]\n",
    "df.tail()"
   ]
  },
  {
   "cell_type": "code",
   "execution_count": 9,
   "metadata": {},
   "outputs": [
    {
     "data": {
      "text/html": [
       "<div>\n",
       "<style scoped>\n",
       "    .dataframe tbody tr th:only-of-type {\n",
       "        vertical-align: middle;\n",
       "    }\n",
       "\n",
       "    .dataframe tbody tr th {\n",
       "        vertical-align: top;\n",
       "    }\n",
       "\n",
       "    .dataframe thead th {\n",
       "        text-align: right;\n",
       "    }\n",
       "</style>\n",
       "<table border=\"1\" class=\"dataframe\">\n",
       "  <thead>\n",
       "    <tr style=\"text-align: right;\">\n",
       "      <th></th>\n",
       "      <th>name</th>\n",
       "      <th>category</th>\n",
       "      <th>playtime</th>\n",
       "      <th>playtime_num</th>\n",
       "      <th>avg_rating</th>\n",
       "      <th>num_ratings</th>\n",
       "      <th>min_players</th>\n",
       "    </tr>\n",
       "  </thead>\n",
       "  <tbody>\n",
       "    <tr>\n",
       "      <th>1</th>\n",
       "      <td>Puerto Rico</td>\n",
       "      <td>Economic</td>\n",
       "      <td>NaN</td>\n",
       "      <td>150</td>\n",
       "      <td>8.03590</td>\n",
       "      <td>61157</td>\n",
       "      <td>3</td>\n",
       "    </tr>\n",
       "    <tr>\n",
       "      <th>31</th>\n",
       "      <td>Cosmic Encounter</td>\n",
       "      <td>Bluffing</td>\n",
       "      <td>NaN</td>\n",
       "      <td>120</td>\n",
       "      <td>7.55528</td>\n",
       "      <td>26335</td>\n",
       "      <td>3</td>\n",
       "    </tr>\n",
       "    <tr>\n",
       "      <th>35</th>\n",
       "      <td>Cosmic Encounter</td>\n",
       "      <td>Bluffing</td>\n",
       "      <td>NaN</td>\n",
       "      <td>120</td>\n",
       "      <td>7.55528</td>\n",
       "      <td>26335</td>\n",
       "      <td>3</td>\n",
       "    </tr>\n",
       "    <tr>\n",
       "      <th>54</th>\n",
       "      <td>Elder Sign</td>\n",
       "      <td>Fighting</td>\n",
       "      <td>NaN</td>\n",
       "      <td>90</td>\n",
       "      <td>7.00506</td>\n",
       "      <td>21321</td>\n",
       "      <td>1</td>\n",
       "    </tr>\n",
       "    <tr>\n",
       "      <th>71</th>\n",
       "      <td>Isle of Skye: From Chieftain to King</td>\n",
       "      <td>Economic</td>\n",
       "      <td>NaN</td>\n",
       "      <td>50</td>\n",
       "      <td>7.45634</td>\n",
       "      <td>19015</td>\n",
       "      <td>2</td>\n",
       "    </tr>\n",
       "    <tr>\n",
       "      <th>86</th>\n",
       "      <td>Mr. Jack</td>\n",
       "      <td>Deduction</td>\n",
       "      <td>NaN</td>\n",
       "      <td>30</td>\n",
       "      <td>7.04544</td>\n",
       "      <td>14639</td>\n",
       "      <td>2</td>\n",
       "    </tr>\n",
       "    <tr>\n",
       "      <th>103</th>\n",
       "      <td>Dungeon Lords</td>\n",
       "      <td>Economic</td>\n",
       "      <td>NaN</td>\n",
       "      <td>90</td>\n",
       "      <td>7.41716</td>\n",
       "      <td>12623</td>\n",
       "      <td>2</td>\n",
       "    </tr>\n",
       "    <tr>\n",
       "      <th>114</th>\n",
       "      <td>Merchants &amp; Marauders</td>\n",
       "      <td>Fighting</td>\n",
       "      <td>NaN</td>\n",
       "      <td>180</td>\n",
       "      <td>7.43596</td>\n",
       "      <td>12345</td>\n",
       "      <td>2</td>\n",
       "    </tr>\n",
       "    <tr>\n",
       "      <th>118</th>\n",
       "      <td>Pathfinder Adventure Card Game: Rise of the Ru...</td>\n",
       "      <td>Fighting</td>\n",
       "      <td>NaN</td>\n",
       "      <td>90</td>\n",
       "      <td>7.27195</td>\n",
       "      <td>11763</td>\n",
       "      <td>1</td>\n",
       "    </tr>\n",
       "    <tr>\n",
       "      <th>139</th>\n",
       "      <td>Skull</td>\n",
       "      <td>bluffing</td>\n",
       "      <td>NaN</td>\n",
       "      <td>45</td>\n",
       "      <td>7.17317</td>\n",
       "      <td>12818</td>\n",
       "      <td>3</td>\n",
       "    </tr>\n",
       "    <tr>\n",
       "      <th>150</th>\n",
       "      <td>Gaia Project</td>\n",
       "      <td>Economic</td>\n",
       "      <td>NaN</td>\n",
       "      <td>150</td>\n",
       "      <td>8.53656</td>\n",
       "      <td>14283</td>\n",
       "      <td>1</td>\n",
       "    </tr>\n",
       "    <tr>\n",
       "      <th>173</th>\n",
       "      <td>Hero Realms</td>\n",
       "      <td>fighting</td>\n",
       "      <td>&lt;=30</td>\n",
       "      <td>30</td>\n",
       "      <td>NaN</td>\n",
       "      <td>10986</td>\n",
       "      <td>2</td>\n",
       "    </tr>\n",
       "    <tr>\n",
       "      <th>227</th>\n",
       "      <td>Pictionary</td>\n",
       "      <td>party game</td>\n",
       "      <td>(60, 90]</td>\n",
       "      <td>90</td>\n",
       "      <td>NaN</td>\n",
       "      <td>6615</td>\n",
       "      <td>3</td>\n",
       "    </tr>\n",
       "    <tr>\n",
       "      <th>244</th>\n",
       "      <td>Agricola (Revised Edition)</td>\n",
       "      <td>economic</td>\n",
       "      <td>&gt;90</td>\n",
       "      <td>120</td>\n",
       "      <td>NaN</td>\n",
       "      <td>7982</td>\n",
       "      <td>1</td>\n",
       "    </tr>\n",
       "  </tbody>\n",
       "</table>\n",
       "</div>"
      ],
      "text/plain": [
       "                                                  name    category  playtime  \\\n",
       "1                                          Puerto Rico    Economic       NaN   \n",
       "31                                    Cosmic Encounter    Bluffing       NaN   \n",
       "35                                    Cosmic Encounter    Bluffing       NaN   \n",
       "54                                          Elder Sign    Fighting       NaN   \n",
       "71                Isle of Skye: From Chieftain to King    Economic       NaN   \n",
       "86                                            Mr. Jack   Deduction       NaN   \n",
       "103                                      Dungeon Lords    Economic       NaN   \n",
       "114                              Merchants & Marauders    Fighting       NaN   \n",
       "118  Pathfinder Adventure Card Game: Rise of the Ru...    Fighting       NaN   \n",
       "139                                              Skull    bluffing       NaN   \n",
       "150                                       Gaia Project    Economic       NaN   \n",
       "173                                        Hero Realms    fighting      <=30   \n",
       "227                                         Pictionary  party game  (60, 90]   \n",
       "244                         Agricola (Revised Edition)    economic       >90   \n",
       "\n",
       "     playtime_num  avg_rating  num_ratings  min_players  \n",
       "1             150     8.03590        61157            3  \n",
       "31            120     7.55528        26335            3  \n",
       "35            120     7.55528        26335            3  \n",
       "54             90     7.00506        21321            1  \n",
       "71             50     7.45634        19015            2  \n",
       "86             30     7.04544        14639            2  \n",
       "103            90     7.41716        12623            2  \n",
       "114           180     7.43596        12345            2  \n",
       "118            90     7.27195        11763            1  \n",
       "139            45     7.17317        12818            3  \n",
       "150           150     8.53656        14283            1  \n",
       "173            30         NaN        10986            2  \n",
       "227            90         NaN         6615            3  \n",
       "244           120         NaN         7982            1  "
      ]
     },
     "execution_count": 9,
     "metadata": {},
     "output_type": "execute_result"
    }
   ],
   "source": [
    "# Look at the nulls\n",
    "df1 = df[df.isna().any(axis=1)]\n",
    "df1.head(20)"
   ]
  },
  {
   "cell_type": "code",
   "execution_count": 10,
   "metadata": {},
   "outputs": [
    {
     "data": {
      "text/plain": [
       "(249, 7)"
      ]
     },
     "execution_count": 10,
     "metadata": {},
     "output_type": "execute_result"
    }
   ],
   "source": [
    "# Check the shape\n",
    "df.shape"
   ]
  },
  {
   "cell_type": "markdown",
   "metadata": {},
   "source": [
    "# Resolve the missing ratings\n",
    "\n",
    "* A: Impute\n",
    "* B: Drop Rows\n",
    "* C: Lookup & Insert Actual Ratings"
   ]
  },
  {
   "cell_type": "code",
   "execution_count": 11,
   "metadata": {},
   "outputs": [
    {
     "data": {
      "text/plain": [
       "0"
      ]
     },
     "execution_count": 11,
     "metadata": {},
     "output_type": "execute_result"
    }
   ],
   "source": [
    "# # A: Impute\n",
    "# df['avg_rating'] = df['avg_rating'].fillna(df['avg_rating'].mean())\n",
    "# df['avg_rating'].isnull().sum()"
   ]
  },
  {
   "cell_type": "code",
   "execution_count": 12,
   "metadata": {},
   "outputs": [],
   "source": [
    "# # B: Drop Rows\n",
    "# df = df.dropna(subset = ['avg_rating'])\n",
    "# df.shape"
   ]
  },
  {
   "cell_type": "code",
   "execution_count": 13,
   "metadata": {},
   "outputs": [],
   "source": [
    "# # C: Lookup & Replace\n",
    "# index = df.index[df['name'] == 'Viticulture']\n",
    "# df.at[index, 'avg_rating'] == #new rating\n",
    "# df['avg_rating'].isnull().sum"
   ]
  },
  {
   "cell_type": "markdown",
   "metadata": {},
   "source": [
    "# Resolve the missing playtime values\n",
    "\n",
    "* A: Replace Values\n",
    "* B: Drop Rows\n",
    "* C: Drop Column\n",
    "* D: Ignore for now..."
   ]
  },
  {
   "cell_type": "code",
   "execution_count": 14,
   "metadata": {},
   "outputs": [
    {
     "data": {
      "text/plain": [
       "0"
      ]
     },
     "execution_count": 14,
     "metadata": {},
     "output_type": "execute_result"
    }
   ],
   "source": [
    "# # A: Replace Values\n",
    "# df['playtime'] = pd.cut(df['playtime_num'], [0,30,60,90,9000])\n",
    "# df['playtime'].isnull().sum()"
   ]
  },
  {
   "cell_type": "code",
   "execution_count": 15,
   "metadata": {},
   "outputs": [],
   "source": [
    "# # B: Drop Rows\n",
    "# df = df.dropna(subset = ['playtime'])\n",
    "# df.shape\n",
    "\n",
    "# df = df.dropna(subset = ['avg_rating'])\n",
    "# df.shape"
   ]
  },
  {
   "cell_type": "code",
   "execution_count": 16,
   "metadata": {},
   "outputs": [],
   "source": [
    "# # C: Drop Column\n",
    "# df.drop('playtime', axis=1, inplace = True)\n",
    "# df.head()"
   ]
  },
  {
   "cell_type": "code",
   "execution_count": 17,
   "metadata": {},
   "outputs": [],
   "source": [
    "# D: Ignore for now..."
   ]
  },
  {
   "cell_type": "code",
   "execution_count": 18,
   "metadata": {},
   "outputs": [
    {
     "data": {
      "text/html": [
       "<div>\n",
       "<style scoped>\n",
       "    .dataframe tbody tr th:only-of-type {\n",
       "        vertical-align: middle;\n",
       "    }\n",
       "\n",
       "    .dataframe tbody tr th {\n",
       "        vertical-align: top;\n",
       "    }\n",
       "\n",
       "    .dataframe thead th {\n",
       "        text-align: right;\n",
       "    }\n",
       "</style>\n",
       "<table border=\"1\" class=\"dataframe\">\n",
       "  <thead>\n",
       "    <tr style=\"text-align: right;\">\n",
       "      <th></th>\n",
       "      <th>name</th>\n",
       "      <th>category</th>\n",
       "      <th>playtime</th>\n",
       "      <th>playtime_num</th>\n",
       "      <th>avg_rating</th>\n",
       "      <th>num_ratings</th>\n",
       "      <th>min_players</th>\n",
       "    </tr>\n",
       "  </thead>\n",
       "  <tbody>\n",
       "  </tbody>\n",
       "</table>\n",
       "</div>"
      ],
      "text/plain": [
       "Empty DataFrame\n",
       "Columns: [name, category, playtime, playtime_num, avg_rating, num_ratings, min_players]\n",
       "Index: []"
      ]
     },
     "execution_count": 18,
     "metadata": {},
     "output_type": "execute_result"
    }
   ],
   "source": [
    "# Look at the nulls\n",
    "df1 = df[df.isna().any(axis=1)]\n",
    "df1.head(20)"
   ]
  },
  {
   "cell_type": "markdown",
   "metadata": {},
   "source": [
    "# Section 2: Outliers"
   ]
  },
  {
   "cell_type": "markdown",
   "metadata": {},
   "source": [
    "# Find Outliers\n",
    "\n",
    "* Histograms\n",
    "* Boxplots\n",
    "* Descriptive Statistics"
   ]
  },
  {
   "cell_type": "code",
   "execution_count": 19,
   "metadata": {},
   "outputs": [
    {
     "data": {
      "text/plain": [
       "<seaborn.axisgrid.FacetGrid at 0x1e89001f748>"
      ]
     },
     "execution_count": 19,
     "metadata": {},
     "output_type": "execute_result"
    },
    {
     "data": {
      "image/png": "[encoded data removed]",
      "text/plain": [
       "<Figure size 1080x360 with 1 Axes>"
      ]
     },
     "metadata": {
      "needs_background": "light"
     },
     "output_type": "display_data"
    }
   ],
   "source": [
    "#Histograms\n",
    "sns.displot(data=df, x='playtime_num', height = 5, aspect = 3)"
   ]
  },
  {
   "cell_type": "code",
   "execution_count": 20,
   "metadata": {},
   "outputs": [
    {
     "data": {
      "text/plain": [
       "<matplotlib.axes._subplots.AxesSubplot at 0x1e8912a7be0>"
      ]
     },
     "execution_count": 20,
     "metadata": {},
     "output_type": "execute_result"
    },
    {
     "data": {
      "image/png": "[encoded data removed]",
      "text/plain": [
       "<Figure size 432x288 with 1 Axes>"
      ]
     },
     "metadata": {
      "needs_background": "light"
     },
     "output_type": "display_data"
    }
   ],
   "source": [
    "# Boxplots\n",
    "df.boxplot(column=['playtime_num'])"
   ]
  },
  {
   "cell_type": "code",
   "execution_count": 21,
   "metadata": {},
   "outputs": [
    {
     "data": {
      "text/plain": [
       "count     249.000000\n",
       "mean      109.485944\n",
       "std       139.902158\n",
       "min        10.000000\n",
       "25%        45.000000\n",
       "50%        90.000000\n",
       "75%       120.000000\n",
       "max      1200.000000\n",
       "Name: playtime_num, dtype: float64"
      ]
     },
     "execution_count": 21,
     "metadata": {},
     "output_type": "execute_result"
    }
   ],
   "source": [
    "# Descriptive Statistics\n",
    "df['playtime_num'].describe()"
   ]
  },
  {
   "cell_type": "code",
   "execution_count": 22,
   "metadata": {},
   "outputs": [
    {
     "data": {
      "text/html": [
       "<div>\n",
       "<style scoped>\n",
       "    .dataframe tbody tr th:only-of-type {\n",
       "        vertical-align: middle;\n",
       "    }\n",
       "\n",
       "    .dataframe tbody tr th {\n",
       "        vertical-align: top;\n",
       "    }\n",
       "\n",
       "    .dataframe thead th {\n",
       "        text-align: right;\n",
       "    }\n",
       "</style>\n",
       "<table border=\"1\" class=\"dataframe\">\n",
       "  <thead>\n",
       "    <tr style=\"text-align: right;\">\n",
       "      <th></th>\n",
       "      <th>name</th>\n",
       "      <th>category</th>\n",
       "      <th>playtime</th>\n",
       "      <th>playtime_num</th>\n",
       "      <th>avg_rating</th>\n",
       "      <th>num_ratings</th>\n",
       "      <th>min_players</th>\n",
       "    </tr>\n",
       "  </thead>\n",
       "  <tbody>\n",
       "    <tr>\n",
       "      <th>2</th>\n",
       "      <td>Small World</td>\n",
       "      <td>Fighting</td>\n",
       "      <td>(90, 9000]</td>\n",
       "      <td>800</td>\n",
       "      <td>7.29949</td>\n",
       "      <td>59211</td>\n",
       "      <td>2</td>\n",
       "    </tr>\n",
       "    <tr>\n",
       "      <th>14</th>\n",
       "      <td>Arkham Horror</td>\n",
       "      <td>Fighting</td>\n",
       "      <td>(90, 9000]</td>\n",
       "      <td>360</td>\n",
       "      <td>7.29157</td>\n",
       "      <td>36102</td>\n",
       "      <td>1</td>\n",
       "    </tr>\n",
       "    <tr>\n",
       "      <th>24</th>\n",
       "      <td>Blood Rage</td>\n",
       "      <td>Fighting</td>\n",
       "      <td>(90, 9000]</td>\n",
       "      <td>900</td>\n",
       "      <td>8.03108</td>\n",
       "      <td>31455</td>\n",
       "      <td>2</td>\n",
       "    </tr>\n",
       "    <tr>\n",
       "      <th>27</th>\n",
       "      <td>Tzolk'in: The Mayan Calendar</td>\n",
       "      <td>Economic</td>\n",
       "      <td>(90, 9000]</td>\n",
       "      <td>900</td>\n",
       "      <td>7.92748</td>\n",
       "      <td>28786</td>\n",
       "      <td>2</td>\n",
       "    </tr>\n",
       "    <tr>\n",
       "      <th>80</th>\n",
       "      <td>Alchemists</td>\n",
       "      <td>Deduction</td>\n",
       "      <td>(90, 9000]</td>\n",
       "      <td>1200</td>\n",
       "      <td>7.69764</td>\n",
       "      <td>17270</td>\n",
       "      <td>2</td>\n",
       "    </tr>\n",
       "    <tr>\n",
       "      <th>119</th>\n",
       "      <td>Diplomacy</td>\n",
       "      <td>Bluffing</td>\n",
       "      <td>(90, 9000]</td>\n",
       "      <td>360</td>\n",
       "      <td>7.05243</td>\n",
       "      <td>11810</td>\n",
       "      <td>2</td>\n",
       "    </tr>\n",
       "    <tr>\n",
       "      <th>158</th>\n",
       "      <td>Small World Underground</td>\n",
       "      <td>fighting</td>\n",
       "      <td>(90, 9000]</td>\n",
       "      <td>900</td>\n",
       "      <td>7.29991</td>\n",
       "      <td>9446</td>\n",
       "      <td>2</td>\n",
       "    </tr>\n",
       "    <tr>\n",
       "      <th>207</th>\n",
       "      <td>Civilization</td>\n",
       "      <td>economic</td>\n",
       "      <td>(90, 9000]</td>\n",
       "      <td>360</td>\n",
       "      <td>7.51239</td>\n",
       "      <td>7007</td>\n",
       "      <td>2</td>\n",
       "    </tr>\n",
       "    <tr>\n",
       "      <th>212</th>\n",
       "      <td>Twilight Imperium (Fourth Edition)</td>\n",
       "      <td>economic</td>\n",
       "      <td>(90, 9000]</td>\n",
       "      <td>480</td>\n",
       "      <td>8.72044</td>\n",
       "      <td>11474</td>\n",
       "      <td>3</td>\n",
       "    </tr>\n",
       "  </tbody>\n",
       "</table>\n",
       "</div>"
      ],
      "text/plain": [
       "                                   name   category    playtime  playtime_num  \\\n",
       "2                           Small World   Fighting  (90, 9000]           800   \n",
       "14                        Arkham Horror   Fighting  (90, 9000]           360   \n",
       "24                           Blood Rage   Fighting  (90, 9000]           900   \n",
       "27         Tzolk'in: The Mayan Calendar   Economic  (90, 9000]           900   \n",
       "80                           Alchemists  Deduction  (90, 9000]          1200   \n",
       "119                           Diplomacy   Bluffing  (90, 9000]           360   \n",
       "158             Small World Underground   fighting  (90, 9000]           900   \n",
       "207                        Civilization   economic  (90, 9000]           360   \n",
       "212  Twilight Imperium (Fourth Edition)   economic  (90, 9000]           480   \n",
       "\n",
       "     avg_rating  num_ratings  min_players  \n",
       "2       7.29949        59211            2  \n",
       "14      7.29157        36102            1  \n",
       "24      8.03108        31455            2  \n",
       "27      7.92748        28786            2  \n",
       "80      7.69764        17270            2  \n",
       "119     7.05243        11810            2  \n",
       "158     7.29991         9446            2  \n",
       "207     7.51239         7007            2  \n",
       "212     8.72044        11474            3  "
      ]
     },
     "execution_count": 22,
     "metadata": {},
     "output_type": "execute_result"
    }
   ],
   "source": [
    "#Look at the Outlier rows\n",
    "df[df['playtime_num'] > 300].head(20)"
   ]
  },
  {
   "cell_type": "code",
   "execution_count": 23,
   "metadata": {},
   "outputs": [
    {
     "data": {
      "text/html": [
       "<div>\n",
       "<style scoped>\n",
       "    .dataframe tbody tr th:only-of-type {\n",
       "        vertical-align: middle;\n",
       "    }\n",
       "\n",
       "    .dataframe tbody tr th {\n",
       "        vertical-align: top;\n",
       "    }\n",
       "\n",
       "    .dataframe thead th {\n",
       "        text-align: right;\n",
       "    }\n",
       "</style>\n",
       "<table border=\"1\" class=\"dataframe\">\n",
       "  <thead>\n",
       "    <tr style=\"text-align: right;\">\n",
       "      <th></th>\n",
       "      <th>name</th>\n",
       "      <th>category</th>\n",
       "      <th>playtime</th>\n",
       "      <th>playtime_num</th>\n",
       "      <th>avg_rating</th>\n",
       "      <th>num_ratings</th>\n",
       "      <th>min_players</th>\n",
       "    </tr>\n",
       "  </thead>\n",
       "  <tbody>\n",
       "    <tr>\n",
       "      <th>80</th>\n",
       "      <td>Alchemists</td>\n",
       "      <td>Deduction</td>\n",
       "      <td>(90, 9000]</td>\n",
       "      <td>1200</td>\n",
       "      <td>7.69764</td>\n",
       "      <td>17270</td>\n",
       "      <td>2</td>\n",
       "    </tr>\n",
       "    <tr>\n",
       "      <th>24</th>\n",
       "      <td>Blood Rage</td>\n",
       "      <td>Fighting</td>\n",
       "      <td>(90, 9000]</td>\n",
       "      <td>900</td>\n",
       "      <td>8.03108</td>\n",
       "      <td>31455</td>\n",
       "      <td>2</td>\n",
       "    </tr>\n",
       "    <tr>\n",
       "      <th>27</th>\n",
       "      <td>Tzolk'in: The Mayan Calendar</td>\n",
       "      <td>Economic</td>\n",
       "      <td>(90, 9000]</td>\n",
       "      <td>900</td>\n",
       "      <td>7.92748</td>\n",
       "      <td>28786</td>\n",
       "      <td>2</td>\n",
       "    </tr>\n",
       "    <tr>\n",
       "      <th>158</th>\n",
       "      <td>Small World Underground</td>\n",
       "      <td>fighting</td>\n",
       "      <td>(90, 9000]</td>\n",
       "      <td>900</td>\n",
       "      <td>7.29991</td>\n",
       "      <td>9446</td>\n",
       "      <td>2</td>\n",
       "    </tr>\n",
       "    <tr>\n",
       "      <th>2</th>\n",
       "      <td>Small World</td>\n",
       "      <td>Fighting</td>\n",
       "      <td>(90, 9000]</td>\n",
       "      <td>800</td>\n",
       "      <td>7.29949</td>\n",
       "      <td>59211</td>\n",
       "      <td>2</td>\n",
       "    </tr>\n",
       "    <tr>\n",
       "      <th>212</th>\n",
       "      <td>Twilight Imperium (Fourth Edition)</td>\n",
       "      <td>economic</td>\n",
       "      <td>(90, 9000]</td>\n",
       "      <td>480</td>\n",
       "      <td>8.72044</td>\n",
       "      <td>11474</td>\n",
       "      <td>3</td>\n",
       "    </tr>\n",
       "    <tr>\n",
       "      <th>14</th>\n",
       "      <td>Arkham Horror</td>\n",
       "      <td>Fighting</td>\n",
       "      <td>(90, 9000]</td>\n",
       "      <td>360</td>\n",
       "      <td>7.29157</td>\n",
       "      <td>36102</td>\n",
       "      <td>1</td>\n",
       "    </tr>\n",
       "    <tr>\n",
       "      <th>119</th>\n",
       "      <td>Diplomacy</td>\n",
       "      <td>Bluffing</td>\n",
       "      <td>(90, 9000]</td>\n",
       "      <td>360</td>\n",
       "      <td>7.05243</td>\n",
       "      <td>11810</td>\n",
       "      <td>2</td>\n",
       "    </tr>\n",
       "    <tr>\n",
       "      <th>207</th>\n",
       "      <td>Civilization</td>\n",
       "      <td>economic</td>\n",
       "      <td>(90, 9000]</td>\n",
       "      <td>360</td>\n",
       "      <td>7.51239</td>\n",
       "      <td>7007</td>\n",
       "      <td>2</td>\n",
       "    </tr>\n",
       "    <tr>\n",
       "      <th>19</th>\n",
       "      <td>Battlestar Galactica: The Board Game</td>\n",
       "      <td>Bluffing</td>\n",
       "      <td>(90, 9000]</td>\n",
       "      <td>300</td>\n",
       "      <td>7.74082</td>\n",
       "      <td>32005</td>\n",
       "      <td>3</td>\n",
       "    </tr>\n",
       "  </tbody>\n",
       "</table>\n",
       "</div>"
      ],
      "text/plain": [
       "                                     name   category    playtime  \\\n",
       "80                             Alchemists  Deduction  (90, 9000]   \n",
       "24                             Blood Rage   Fighting  (90, 9000]   \n",
       "27           Tzolk'in: The Mayan Calendar   Economic  (90, 9000]   \n",
       "158               Small World Underground   fighting  (90, 9000]   \n",
       "2                             Small World   Fighting  (90, 9000]   \n",
       "212    Twilight Imperium (Fourth Edition)   economic  (90, 9000]   \n",
       "14                          Arkham Horror   Fighting  (90, 9000]   \n",
       "119                             Diplomacy   Bluffing  (90, 9000]   \n",
       "207                          Civilization   economic  (90, 9000]   \n",
       "19   Battlestar Galactica: The Board Game   Bluffing  (90, 9000]   \n",
       "\n",
       "     playtime_num  avg_rating  num_ratings  min_players  \n",
       "80           1200     7.69764        17270            2  \n",
       "24            900     8.03108        31455            2  \n",
       "27            900     7.92748        28786            2  \n",
       "158           900     7.29991         9446            2  \n",
       "2             800     7.29949        59211            2  \n",
       "212           480     8.72044        11474            3  \n",
       "14            360     7.29157        36102            1  \n",
       "119           360     7.05243        11810            2  \n",
       "207           360     7.51239         7007            2  \n",
       "19            300     7.74082        32005            3  "
      ]
     },
     "execution_count": 23,
     "metadata": {},
     "output_type": "execute_result"
    }
   ],
   "source": [
    "# Look at the Outlier rows\n",
    "df.nlargest(10, 'playtime_num')"
   ]
  },
  {
   "cell_type": "markdown",
   "metadata": {},
   "source": [
    "# Resolve the Outliers"
   ]
  },
  {
   "cell_type": "markdown",
   "metadata": {},
   "source": [
    "* A: Modify Outlier Values\n",
    "* B: Drop Rows\n",
    "* C: Flag Outliers"
   ]
  },
  {
   "cell_type": "code",
   "execution_count": 24,
   "metadata": {},
   "outputs": [],
   "source": [
    "# # A: Modify Outlier Values\n",
    "# df['playtime_num'] = df['playtime_num'].replace({1200:120, 900:90, 800:90})\n",
    "# df.nlargest(10, 'playtime_num')"
   ]
  },
  {
   "cell_type": "code",
   "execution_count": 25,
   "metadata": {},
   "outputs": [],
   "source": [
    "# # B: Drop Rows\n",
    "# indexNames = df[df['playtime_num'] > 500].index\n",
    "# df.drop(indexNames, inplace=True)\n",
    "# df.nlargest(10, 'playtime_num')"
   ]
  },
  {
   "cell_type": "code",
   "execution_count": 26,
   "metadata": {},
   "outputs": [
    {
     "data": {
      "text/html": [
       "<div>\n",
       "<style scoped>\n",
       "    .dataframe tbody tr th:only-of-type {\n",
       "        vertical-align: middle;\n",
       "    }\n",
       "\n",
       "    .dataframe tbody tr th {\n",
       "        vertical-align: top;\n",
       "    }\n",
       "\n",
       "    .dataframe thead th {\n",
       "        text-align: right;\n",
       "    }\n",
       "</style>\n",
       "<table border=\"1\" class=\"dataframe\">\n",
       "  <thead>\n",
       "    <tr style=\"text-align: right;\">\n",
       "      <th></th>\n",
       "      <th>name</th>\n",
       "      <th>category</th>\n",
       "      <th>playtime</th>\n",
       "      <th>playtime_num</th>\n",
       "      <th>avg_rating</th>\n",
       "      <th>num_ratings</th>\n",
       "      <th>min_players</th>\n",
       "      <th>outlier</th>\n",
       "    </tr>\n",
       "  </thead>\n",
       "  <tbody>\n",
       "    <tr>\n",
       "      <th>80</th>\n",
       "      <td>Alchemists</td>\n",
       "      <td>Deduction</td>\n",
       "      <td>(90, 9000]</td>\n",
       "      <td>1200</td>\n",
       "      <td>7.69764</td>\n",
       "      <td>17270</td>\n",
       "      <td>2</td>\n",
       "      <td>True</td>\n",
       "    </tr>\n",
       "    <tr>\n",
       "      <th>24</th>\n",
       "      <td>Blood Rage</td>\n",
       "      <td>Fighting</td>\n",
       "      <td>(90, 9000]</td>\n",
       "      <td>900</td>\n",
       "      <td>8.03108</td>\n",
       "      <td>31455</td>\n",
       "      <td>2</td>\n",
       "      <td>True</td>\n",
       "    </tr>\n",
       "    <tr>\n",
       "      <th>27</th>\n",
       "      <td>Tzolk'in: The Mayan Calendar</td>\n",
       "      <td>Economic</td>\n",
       "      <td>(90, 9000]</td>\n",
       "      <td>900</td>\n",
       "      <td>7.92748</td>\n",
       "      <td>28786</td>\n",
       "      <td>2</td>\n",
       "      <td>True</td>\n",
       "    </tr>\n",
       "    <tr>\n",
       "      <th>158</th>\n",
       "      <td>Small World Underground</td>\n",
       "      <td>fighting</td>\n",
       "      <td>(90, 9000]</td>\n",
       "      <td>900</td>\n",
       "      <td>7.29991</td>\n",
       "      <td>9446</td>\n",
       "      <td>2</td>\n",
       "      <td>True</td>\n",
       "    </tr>\n",
       "    <tr>\n",
       "      <th>2</th>\n",
       "      <td>Small World</td>\n",
       "      <td>Fighting</td>\n",
       "      <td>(90, 9000]</td>\n",
       "      <td>800</td>\n",
       "      <td>7.29949</td>\n",
       "      <td>59211</td>\n",
       "      <td>2</td>\n",
       "      <td>True</td>\n",
       "    </tr>\n",
       "    <tr>\n",
       "      <th>212</th>\n",
       "      <td>Twilight Imperium (Fourth Edition)</td>\n",
       "      <td>economic</td>\n",
       "      <td>(90, 9000]</td>\n",
       "      <td>480</td>\n",
       "      <td>8.72044</td>\n",
       "      <td>11474</td>\n",
       "      <td>3</td>\n",
       "      <td>False</td>\n",
       "    </tr>\n",
       "    <tr>\n",
       "      <th>14</th>\n",
       "      <td>Arkham Horror</td>\n",
       "      <td>Fighting</td>\n",
       "      <td>(90, 9000]</td>\n",
       "      <td>360</td>\n",
       "      <td>7.29157</td>\n",
       "      <td>36102</td>\n",
       "      <td>1</td>\n",
       "      <td>False</td>\n",
       "    </tr>\n",
       "    <tr>\n",
       "      <th>119</th>\n",
       "      <td>Diplomacy</td>\n",
       "      <td>Bluffing</td>\n",
       "      <td>(90, 9000]</td>\n",
       "      <td>360</td>\n",
       "      <td>7.05243</td>\n",
       "      <td>11810</td>\n",
       "      <td>2</td>\n",
       "      <td>False</td>\n",
       "    </tr>\n",
       "    <tr>\n",
       "      <th>207</th>\n",
       "      <td>Civilization</td>\n",
       "      <td>economic</td>\n",
       "      <td>(90, 9000]</td>\n",
       "      <td>360</td>\n",
       "      <td>7.51239</td>\n",
       "      <td>7007</td>\n",
       "      <td>2</td>\n",
       "      <td>False</td>\n",
       "    </tr>\n",
       "    <tr>\n",
       "      <th>19</th>\n",
       "      <td>Battlestar Galactica: The Board Game</td>\n",
       "      <td>Bluffing</td>\n",
       "      <td>(90, 9000]</td>\n",
       "      <td>300</td>\n",
       "      <td>7.74082</td>\n",
       "      <td>32005</td>\n",
       "      <td>3</td>\n",
       "      <td>False</td>\n",
       "    </tr>\n",
       "  </tbody>\n",
       "</table>\n",
       "</div>"
      ],
      "text/plain": [
       "                                     name   category    playtime  \\\n",
       "80                             Alchemists  Deduction  (90, 9000]   \n",
       "24                             Blood Rage   Fighting  (90, 9000]   \n",
       "27           Tzolk'in: The Mayan Calendar   Economic  (90, 9000]   \n",
       "158               Small World Underground   fighting  (90, 9000]   \n",
       "2                             Small World   Fighting  (90, 9000]   \n",
       "212    Twilight Imperium (Fourth Edition)   economic  (90, 9000]   \n",
       "14                          Arkham Horror   Fighting  (90, 9000]   \n",
       "119                             Diplomacy   Bluffing  (90, 9000]   \n",
       "207                          Civilization   economic  (90, 9000]   \n",
       "19   Battlestar Galactica: The Board Game   Bluffing  (90, 9000]   \n",
       "\n",
       "     playtime_num  avg_rating  num_ratings  min_players  outlier  \n",
       "80           1200     7.69764        17270            2     True  \n",
       "24            900     8.03108        31455            2     True  \n",
       "27            900     7.92748        28786            2     True  \n",
       "158           900     7.29991         9446            2     True  \n",
       "2             800     7.29949        59211            2     True  \n",
       "212           480     8.72044        11474            3    False  \n",
       "14            360     7.29157        36102            1    False  \n",
       "119           360     7.05243        11810            2    False  \n",
       "207           360     7.51239         7007            2    False  \n",
       "19            300     7.74082        32005            3    False  "
      ]
     },
     "execution_count": 26,
     "metadata": {},
     "output_type": "execute_result"
    }
   ],
   "source": [
    "# C: Flag Outliers\n",
    "df['outlier'] = df['playtime_num'] > 500\n",
    "df.nlargest(10, 'playtime_num')"
   ]
  },
  {
   "cell_type": "markdown",
   "metadata": {},
   "source": [
    "# Unnecessary Data"
   ]
  },
  {
   "cell_type": "markdown",
   "metadata": {},
   "source": [
    "# Find Irrelevant Data\n",
    "\n",
    "* Column Diversity\n",
    "* Detect Duplicates\n",
    "* Consider Relevance"
   ]
  },
  {
   "cell_type": "code",
   "execution_count": 27,
   "metadata": {},
   "outputs": [
    {
     "data": {
      "text/plain": [
       "Economic      57\n",
       "Fighting      49\n",
       "Bluffing      31\n",
       "economic      31\n",
       "fighting      21\n",
       "bluffing      19\n",
       "Deduction     17\n",
       "Party Game    15\n",
       "deduction      5\n",
       "party game     3\n",
       "Adventure      1\n",
       "Name: category, dtype: int64"
      ]
     },
     "execution_count": 27,
     "metadata": {},
     "output_type": "execute_result"
    }
   ],
   "source": [
    "df['category'].value_counts()"
   ]
  },
  {
   "cell_type": "code",
   "execution_count": 28,
   "metadata": {},
   "outputs": [
    {
     "data": {
      "text/plain": [
       "4"
      ]
     },
     "execution_count": 28,
     "metadata": {},
     "output_type": "execute_result"
    }
   ],
   "source": [
    "dupes = df.duplicated()\n",
    "dupes.sum()"
   ]
  },
  {
   "cell_type": "code",
   "execution_count": 29,
   "metadata": {},
   "outputs": [
    {
     "data": {
      "text/plain": [
       "0"
      ]
     },
     "execution_count": 29,
     "metadata": {},
     "output_type": "execute_result"
    }
   ],
   "source": [
    "df.drop_duplicates(inplace = True)\n",
    "dupes = df.duplicated()\n",
    "dupes.sum()"
   ]
  },
  {
   "cell_type": "code",
   "execution_count": 30,
   "metadata": {},
   "outputs": [
    {
     "data": {
      "text/plain": [
       "Codenames                     2\n",
       "Jambo                         1\n",
       "Spirit Island                 1\n",
       "King of Tokyo                 1\n",
       "Food Chain Magnate            1\n",
       "                             ..\n",
       "Space Hulk (third edition)    1\n",
       "Schotten Totten               1\n",
       "Mascarade                     1\n",
       "Spyfall                       1\n",
       "Sheriff of Nottingham         1\n",
       "Name: name, Length: 244, dtype: int64"
      ]
     },
     "execution_count": 30,
     "metadata": {},
     "output_type": "execute_result"
    }
   ],
   "source": [
    "# Check for duplicates in the ID column\n",
    "df['name'].value_counts()"
   ]
  },
  {
   "cell_type": "code",
   "execution_count": 31,
   "metadata": {},
   "outputs": [
    {
     "data": {
      "text/html": [
       "<div>\n",
       "<style scoped>\n",
       "    .dataframe tbody tr th:only-of-type {\n",
       "        vertical-align: middle;\n",
       "    }\n",
       "\n",
       "    .dataframe tbody tr th {\n",
       "        vertical-align: top;\n",
       "    }\n",
       "\n",
       "    .dataframe thead th {\n",
       "        text-align: right;\n",
       "    }\n",
       "</style>\n",
       "<table border=\"1\" class=\"dataframe\">\n",
       "  <thead>\n",
       "    <tr style=\"text-align: right;\">\n",
       "      <th></th>\n",
       "      <th>name</th>\n",
       "      <th>category</th>\n",
       "      <th>playtime</th>\n",
       "      <th>playtime_num</th>\n",
       "      <th>avg_rating</th>\n",
       "      <th>num_ratings</th>\n",
       "      <th>min_players</th>\n",
       "      <th>outlier</th>\n",
       "    </tr>\n",
       "  </thead>\n",
       "  <tbody>\n",
       "    <tr>\n",
       "      <th>3</th>\n",
       "      <td>Codenames</td>\n",
       "      <td>Deduction</td>\n",
       "      <td>(0, 30]</td>\n",
       "      <td>15</td>\n",
       "      <td>7.71148</td>\n",
       "      <td>62563</td>\n",
       "      <td>2</td>\n",
       "      <td>False</td>\n",
       "    </tr>\n",
       "    <tr>\n",
       "      <th>9</th>\n",
       "      <td>Codenames</td>\n",
       "      <td>Party Game</td>\n",
       "      <td>(0, 30]</td>\n",
       "      <td>30</td>\n",
       "      <td>7.29405</td>\n",
       "      <td>47812</td>\n",
       "      <td>3</td>\n",
       "      <td>False</td>\n",
       "    </tr>\n",
       "  </tbody>\n",
       "</table>\n",
       "</div>"
      ],
      "text/plain": [
       "        name    category playtime  playtime_num  avg_rating  num_ratings  \\\n",
       "3  Codenames   Deduction  (0, 30]            15     7.71148        62563   \n",
       "9  Codenames  Party Game  (0, 30]            30     7.29405        47812   \n",
       "\n",
       "   min_players  outlier  \n",
       "3            2    False  \n",
       "9            3    False  "
      ]
     },
     "execution_count": 31,
     "metadata": {},
     "output_type": "execute_result"
    }
   ],
   "source": [
    "df[df['name'] == 'Codenames'].head()"
   ]
  },
  {
   "cell_type": "code",
   "execution_count": 32,
   "metadata": {},
   "outputs": [
    {
     "data": {
      "text/html": [
       "<div>\n",
       "<style scoped>\n",
       "    .dataframe tbody tr th:only-of-type {\n",
       "        vertical-align: middle;\n",
       "    }\n",
       "\n",
       "    .dataframe tbody tr th {\n",
       "        vertical-align: top;\n",
       "    }\n",
       "\n",
       "    .dataframe thead th {\n",
       "        text-align: right;\n",
       "    }\n",
       "</style>\n",
       "<table border=\"1\" class=\"dataframe\">\n",
       "  <thead>\n",
       "    <tr style=\"text-align: right;\">\n",
       "      <th></th>\n",
       "      <th>name</th>\n",
       "      <th>category</th>\n",
       "      <th>playtime</th>\n",
       "      <th>playtime_num</th>\n",
       "      <th>avg_rating</th>\n",
       "      <th>num_ratings</th>\n",
       "      <th>min_players</th>\n",
       "      <th>outlier</th>\n",
       "    </tr>\n",
       "  </thead>\n",
       "  <tbody>\n",
       "    <tr>\n",
       "      <th>3</th>\n",
       "      <td>Codenames</td>\n",
       "      <td>Deduction</td>\n",
       "      <td>(0, 30]</td>\n",
       "      <td>15</td>\n",
       "      <td>7.71148</td>\n",
       "      <td>62563</td>\n",
       "      <td>2</td>\n",
       "      <td>False</td>\n",
       "    </tr>\n",
       "  </tbody>\n",
       "</table>\n",
       "</div>"
      ],
      "text/plain": [
       "        name   category playtime  playtime_num  avg_rating  num_ratings  \\\n",
       "3  Codenames  Deduction  (0, 30]            15     7.71148        62563   \n",
       "\n",
       "   min_players  outlier  \n",
       "3            2    False  "
      ]
     },
     "execution_count": 32,
     "metadata": {},
     "output_type": "execute_result"
    }
   ],
   "source": [
    "df.drop_duplicates(subset = ['name'], inplace = True)\n",
    "df[df['name'] == 'Codenames'].head()"
   ]
  },
  {
   "cell_type": "markdown",
   "metadata": {},
   "source": [
    "# Remove Irrelevant Data\n",
    "\n",
    "* Drop ___ Column\n",
    "* A: playtime\n",
    "* B: playtime_num\n",
    "* C: num_ratings"
   ]
  },
  {
   "cell_type": "code",
   "execution_count": 33,
   "metadata": {},
   "outputs": [
    {
     "data": {
      "text/html": [
       "<div>\n",
       "<style scoped>\n",
       "    .dataframe tbody tr th:only-of-type {\n",
       "        vertical-align: middle;\n",
       "    }\n",
       "\n",
       "    .dataframe tbody tr th {\n",
       "        vertical-align: top;\n",
       "    }\n",
       "\n",
       "    .dataframe thead th {\n",
       "        text-align: right;\n",
       "    }\n",
       "</style>\n",
       "<table border=\"1\" class=\"dataframe\">\n",
       "  <thead>\n",
       "    <tr style=\"text-align: right;\">\n",
       "      <th></th>\n",
       "      <th>name</th>\n",
       "      <th>category</th>\n",
       "      <th>playtime</th>\n",
       "      <th>avg_rating</th>\n",
       "      <th>min_players</th>\n",
       "      <th>outlier</th>\n",
       "    </tr>\n",
       "  </thead>\n",
       "  <tbody>\n",
       "    <tr>\n",
       "      <th>0</th>\n",
       "      <td>Agricola</td>\n",
       "      <td>Economic</td>\n",
       "      <td>(90, 9000]</td>\n",
       "      <td>7.98857</td>\n",
       "      <td>1</td>\n",
       "      <td>False</td>\n",
       "    </tr>\n",
       "    <tr>\n",
       "      <th>1</th>\n",
       "      <td>Puerto Rico</td>\n",
       "      <td>Economic</td>\n",
       "      <td>(90, 9000]</td>\n",
       "      <td>8.03590</td>\n",
       "      <td>3</td>\n",
       "      <td>False</td>\n",
       "    </tr>\n",
       "    <tr>\n",
       "      <th>2</th>\n",
       "      <td>Small World</td>\n",
       "      <td>Fighting</td>\n",
       "      <td>(90, 9000]</td>\n",
       "      <td>7.29949</td>\n",
       "      <td>2</td>\n",
       "      <td>True</td>\n",
       "    </tr>\n",
       "    <tr>\n",
       "      <th>3</th>\n",
       "      <td>Codenames</td>\n",
       "      <td>Deduction</td>\n",
       "      <td>(0, 30]</td>\n",
       "      <td>7.71148</td>\n",
       "      <td>2</td>\n",
       "      <td>False</td>\n",
       "    </tr>\n",
       "    <tr>\n",
       "      <th>4</th>\n",
       "      <td>Power Grid</td>\n",
       "      <td>Economic</td>\n",
       "      <td>(90, 9000]</td>\n",
       "      <td>7.89004</td>\n",
       "      <td>2</td>\n",
       "      <td>False</td>\n",
       "    </tr>\n",
       "  </tbody>\n",
       "</table>\n",
       "</div>"
      ],
      "text/plain": [
       "          name   category    playtime  avg_rating  min_players  outlier\n",
       "0     Agricola   Economic  (90, 9000]     7.98857            1    False\n",
       "1  Puerto Rico   Economic  (90, 9000]     8.03590            3    False\n",
       "2  Small World   Fighting  (90, 9000]     7.29949            2     True\n",
       "3    Codenames  Deduction     (0, 30]     7.71148            2    False\n",
       "4   Power Grid   Economic  (90, 9000]     7.89004            2    False"
      ]
     },
     "execution_count": 33,
     "metadata": {},
     "output_type": "execute_result"
    }
   ],
   "source": [
    "df.drop(['playtime_num', 'num_ratings'], axis=1, inplace=True)\n",
    "df.head()"
   ]
  },
  {
   "cell_type": "code",
   "execution_count": 34,
   "metadata": {},
   "outputs": [
    {
     "data": {
      "text/plain": [
       "(244, 6)"
      ]
     },
     "execution_count": 34,
     "metadata": {},
     "output_type": "execute_result"
    }
   ],
   "source": [
    "df.shape"
   ]
  },
  {
   "cell_type": "code",
   "execution_count": 35,
   "metadata": {},
   "outputs": [
    {
     "data": {
      "text/plain": [
       "(240, 6)"
      ]
     },
     "execution_count": 35,
     "metadata": {},
     "output_type": "execute_result"
    }
   ],
   "source": [
    "# The family only has 4 people, so I don't need games that require 5+\n",
    "df = df[df.min_players < 5]\n",
    "df.shape"
   ]
  },
  {
   "cell_type": "markdown",
   "metadata": {},
   "source": [
    "# Section 4: Inconsistant Data"
   ]
  },
  {
   "cell_type": "code",
   "execution_count": 36,
   "metadata": {},
   "outputs": [
    {
     "data": {
      "text/plain": [
       "Economic      57\n",
       "Fighting      48\n",
       "economic      31\n",
       "Bluffing      25\n",
       "fighting      21\n",
       "bluffing      18\n",
       "Deduction     17\n",
       "Party Game    14\n",
       "deduction      5\n",
       "party game     3\n",
       "Adventure      1\n",
       "Name: category, dtype: int64"
      ]
     },
     "execution_count": 36,
     "metadata": {},
     "output_type": "execute_result"
    }
   ],
   "source": [
    "df['category'].value_counts()"
   ]
  },
  {
   "cell_type": "markdown",
   "metadata": {},
   "source": [
    "# Group Category Values\n",
    "\n",
    "* A: upper()\n",
    "* B: lower()\n",
    "* C: replace()"
   ]
  },
  {
   "cell_type": "code",
   "execution_count": 37,
   "metadata": {},
   "outputs": [],
   "source": [
    "# # upper()\n",
    "# df['category'] = df['category'].str.upper()\n",
    "# df['category'].value_counts()"
   ]
  },
  {
   "cell_type": "code",
   "execution_count": 38,
   "metadata": {},
   "outputs": [],
   "source": [
    "# # lower()\n",
    "# df['category'] = df['category'].str.lower()\n",
    "# df['category'].value_counts()"
   ]
  },
  {
   "cell_type": "code",
   "execution_count": 42,
   "metadata": {},
   "outputs": [
    {
     "data": {
      "text/plain": [
       "economic      88\n",
       "fighting      69\n",
       "bluffing      43\n",
       "deduction     22\n",
       "party game    17\n",
       "adventure      1\n",
       "Name: category, dtype: int64"
      ]
     },
     "execution_count": 42,
     "metadata": {},
     "output_type": "execute_result"
    }
   ],
   "source": [
    "# replace()\n",
    "df['category'] = df['category'].replace({'Economic': 'economic', 'Fighting': 'fighting', 'Bluffing': 'bluffing', \n",
    "                                         'Deduction': 'deduction', 'Party Game': 'party game', 'Adventure': 'adventure'})\n",
    "df['category'].value_counts()"
   ]
  },
  {
   "cell_type": "code",
   "execution_count": null,
   "metadata": {},
   "outputs": [],
   "source": []
  },
  {
   "cell_type": "code",
   "execution_count": null,
   "metadata": {},
   "outputs": [],
   "source": []
  },
  {
   "cell_type": "code",
   "execution_count": null,
   "metadata": {},
   "outputs": [],
   "source": []
  },
  {
   "cell_type": "code",
   "execution_count": null,
   "metadata": {},
   "outputs": [],
   "source": []
  },
  {
   "cell_type": "code",
   "execution_count": null,
   "metadata": {},
   "outputs": [],
   "source": []
  },
  {
   "cell_type": "code",
   "execution_count": null,
   "metadata": {},
   "outputs": [],
   "source": []
  },
  {
   "cell_type": "code",
   "execution_count": null,
   "metadata": {},
   "outputs": [],
   "source": []
  },
  {
   "cell_type": "code",
   "execution_count": null,
   "metadata": {},
   "outputs": [],
   "source": []
  },
  {
   "cell_type": "code",
   "execution_count": null,
   "metadata": {},
   "outputs": [],
   "source": []
  },
  {
   "cell_type": "code",
   "execution_count": null,
   "metadata": {},
   "outputs": [],
   "source": []
  },
  {
   "cell_type": "code",
   "execution_count": null,
   "metadata": {},
   "outputs": [],
   "source": []
  },
  {
   "cell_type": "code",
   "execution_count": null,
   "metadata": {},
   "outputs": [],
   "source": []
  },
  {
   "cell_type": "code",
   "execution_count": null,
   "metadata": {},
   "outputs": [],
   "source": []
  },
  {
   "cell_type": "code",
   "execution_count": null,
   "metadata": {},
   "outputs": [],
   "source": []
  },
  {
   "cell_type": "code",
   "execution_count": null,
   "metadata": {},
   "outputs": [],
   "source": []
  },
  {
   "cell_type": "code",
   "execution_count": null,
   "metadata": {},
   "outputs": [],
   "source": []
  },
  {
   "cell_type": "code",
   "execution_count": null,
   "metadata": {},
   "outputs": [],
   "source": []
  },
  {
   "cell_type": "code",
   "execution_count": null,
   "metadata": {},
   "outputs": [],
   "source": []
  },
  {
   "cell_type": "code",
   "execution_count": null,
   "metadata": {},
   "outputs": [],
   "source": []
  }
 ],
 "metadata": {
  "kernelspec": {
   "display_name": "Python 3",
   "language": "python",
   "name": "python3"
  },
  "language_info": {
   "codemirror_mode": {
    "name": "ipython",
    "version": 3
   },
   "file_extension": ".py",
   "mimetype": "text/x-python",
   "name": "python",
   "nbconvert_exporter": "python",
   "pygments_lexer": "ipython3",
   "version": "3.6.10"
  }
 },
 "nbformat": 4,
 "nbformat_minor": 4
}
