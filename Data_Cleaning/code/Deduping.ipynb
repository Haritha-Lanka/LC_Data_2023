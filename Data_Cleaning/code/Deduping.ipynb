{
 "cells": [
  {
   "cell_type": "code",
   "execution_count": 1,
   "metadata": {},
   "outputs": [
    {
     "data": {
      "text/html": [
       "<div>\n",
       "<style scoped>\n",
       "    .dataframe tbody tr th:only-of-type {\n",
       "        vertical-align: middle;\n",
       "    }\n",
       "\n",
       "    .dataframe tbody tr th {\n",
       "        vertical-align: top;\n",
       "    }\n",
       "\n",
       "    .dataframe thead th {\n",
       "        text-align: right;\n",
       "    }\n",
       "</style>\n",
       "<table border=\"1\" class=\"dataframe\">\n",
       "  <thead>\n",
       "    <tr style=\"text-align: right;\">\n",
       "      <th></th>\n",
       "      <th>name</th>\n",
       "      <th>category</th>\n",
       "      <th>playtime</th>\n",
       "      <th>playtime_num</th>\n",
       "      <th>avg_rating</th>\n",
       "      <th>num_ratings</th>\n",
       "      <th>min_players</th>\n",
       "    </tr>\n",
       "  </thead>\n",
       "  <tbody>\n",
       "    <tr>\n",
       "      <th>0</th>\n",
       "      <td>Agricola</td>\n",
       "      <td>Economic</td>\n",
       "      <td>&gt;90</td>\n",
       "      <td>150</td>\n",
       "      <td>7.98857</td>\n",
       "      <td>61557</td>\n",
       "      <td>1</td>\n",
       "    </tr>\n",
       "    <tr>\n",
       "      <th>1</th>\n",
       "      <td>Puerto Rico</td>\n",
       "      <td>Economic</td>\n",
       "      <td>NaN</td>\n",
       "      <td>150</td>\n",
       "      <td>8.03590</td>\n",
       "      <td>61157</td>\n",
       "      <td>3</td>\n",
       "    </tr>\n",
       "    <tr>\n",
       "      <th>2</th>\n",
       "      <td>Small World</td>\n",
       "      <td>Fighting</td>\n",
       "      <td>(60, 90]</td>\n",
       "      <td>800</td>\n",
       "      <td>7.29949</td>\n",
       "      <td>59211</td>\n",
       "      <td>2</td>\n",
       "    </tr>\n",
       "    <tr>\n",
       "      <th>3</th>\n",
       "      <td>Codenames</td>\n",
       "      <td>Deduction</td>\n",
       "      <td>&lt;=30</td>\n",
       "      <td>15</td>\n",
       "      <td>7.71148</td>\n",
       "      <td>62563</td>\n",
       "      <td>2</td>\n",
       "    </tr>\n",
       "    <tr>\n",
       "      <th>4</th>\n",
       "      <td>Power Grid</td>\n",
       "      <td>Economic</td>\n",
       "      <td>&gt;90</td>\n",
       "      <td>120</td>\n",
       "      <td>7.89004</td>\n",
       "      <td>54420</td>\n",
       "      <td>2</td>\n",
       "    </tr>\n",
       "  </tbody>\n",
       "</table>\n",
       "</div>"
      ],
      "text/plain": [
       "          name   category  playtime  playtime_num  avg_rating  num_ratings  \\\n",
       "0     Agricola   Economic       >90           150     7.98857        61557   \n",
       "1  Puerto Rico   Economic       NaN           150     8.03590        61157   \n",
       "2  Small World   Fighting  (60, 90]           800     7.29949        59211   \n",
       "3    Codenames  Deduction      <=30            15     7.71148        62563   \n",
       "4   Power Grid   Economic       >90           120     7.89004        54420   \n",
       "\n",
       "   min_players  \n",
       "0            1  \n",
       "1            3  \n",
       "2            2  \n",
       "3            2  \n",
       "4            2  "
      ]
     },
     "execution_count": 1,
     "metadata": {},
     "output_type": "execute_result"
    }
   ],
   "source": [
    "# install libraries\n",
    "import pandas as pd\n",
    "\n",
    "# load the dataset\n",
    "df = pd.read_csv('../resources/popular_board_game.csv')\n",
    "df.head()"
   ]
  },
  {
   "cell_type": "code",
   "execution_count": 2,
   "metadata": {},
   "outputs": [
    {
     "data": {
      "text/plain": [
       "(248, 7)"
      ]
     },
     "execution_count": 2,
     "metadata": {},
     "output_type": "execute_result"
    }
   ],
   "source": [
    "df.shape"
   ]
  },
  {
   "cell_type": "code",
   "execution_count": 3,
   "metadata": {},
   "outputs": [
    {
     "data": {
      "text/plain": [
       "4"
      ]
     },
     "execution_count": 3,
     "metadata": {},
     "output_type": "execute_result"
    }
   ],
   "source": [
    "dupes = df.duplicated()\n",
    "dupes.sum()"
   ]
  },
  {
   "cell_type": "code",
   "execution_count": 4,
   "metadata": {},
   "outputs": [
    {
     "data": {
      "text/plain": [
       "(244, 7)"
      ]
     },
     "execution_count": 4,
     "metadata": {},
     "output_type": "execute_result"
    }
   ],
   "source": [
    "#using drop_duplicates\n",
    "df_drop_dup = df.drop_duplicates()\n",
    "df_drop_dup.shape"
   ]
  },
  {
   "cell_type": "code",
   "execution_count": 5,
   "metadata": {},
   "outputs": [
    {
     "name": "stdout",
     "output_type": "stream",
     "text": [
      "4\n",
      "(244, 7)\n"
     ]
    }
   ],
   "source": [
    "#using keys to dedupe\n",
    "\n",
    "dupes = df.duplicated()\n",
    "print(dupes.sum())\n",
    "\n",
    "#because this piece of code is calling every feature (aka column) from our dataset, it will behave \n",
    "    #just like if we used \"drop_duplicates\" with no arguments\n",
    "key = [\"name\", \"category\", \"playtime\", \"playtime_num\", \"avg_rating\", \"num_ratings\", \"min_players\"]\n",
    "df_dedupped2 = df.drop_duplicates(subset=key)\n",
    "\n",
    "print(df_dedupped2.shape)"
   ]
  },
  {
   "cell_type": "code",
   "execution_count": 6,
   "metadata": {},
   "outputs": [
    {
     "name": "stdout",
     "output_type": "stream",
     "text": [
      "5\n",
      "(243, 7)\n"
     ]
    }
   ],
   "source": [
    "dupes = df.duplicated(\"name\")\n",
    "print(dupes.sum())\n",
    "\n",
    "#because we're now only looking at one column/feature as our key, we may see more duplicates\n",
    "key = [\"name\"]\n",
    "df_dedupped3 = df.drop_duplicates(subset=key)\n",
    "\n",
    "print(df_dedupped3.shape)"
   ]
  },
  {
   "cell_type": "code",
   "execution_count": null,
   "metadata": {},
   "outputs": [],
   "source": []
  },
  {
   "cell_type": "code",
   "execution_count": null,
   "metadata": {},
   "outputs": [],
   "source": []
  },
  {
   "cell_type": "code",
   "execution_count": null,
   "metadata": {},
   "outputs": [],
   "source": []
  },
  {
   "cell_type": "code",
   "execution_count": null,
   "metadata": {},
   "outputs": [],
   "source": []
  }
 ],
 "metadata": {
  "kernelspec": {
   "display_name": "Python 3 (ipykernel)",
   "language": "python",
   "name": "python3"
  },
  "language_info": {
   "codemirror_mode": {
    "name": "ipython",
    "version": 3
   },
   "file_extension": ".py",
   "mimetype": "text/x-python",
   "name": "python",
   "nbconvert_exporter": "python",
   "pygments_lexer": "ipython3",
   "version": "3.9.12"
  }
 },
 "nbformat": 4,
 "nbformat_minor": 4
}
